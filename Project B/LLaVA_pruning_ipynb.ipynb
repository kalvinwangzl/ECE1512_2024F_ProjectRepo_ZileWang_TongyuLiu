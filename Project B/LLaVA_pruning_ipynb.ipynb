{
  "nbformat": 4,
  "nbformat_minor": 0,
  "metadata": {
    "colab": {
      "provenance": [],
      "machine_shape": "hm",
      "gpuType": "A100"
    },
    "kernelspec": {
      "name": "python3",
      "display_name": "Python 3"
    },
    "language_info": {
      "name": "python"
    },
    "accelerator": "GPU"
  },
  "cells": [
    {
      "cell_type": "markdown",
      "source": [
        "The architeture of LLaVA contains the following layers for projection:"
      ],
      "metadata": {
        "id": "o5SPhvub664y"
      }
    },
    {
      "cell_type": "code",
      "execution_count": null,
      "metadata": {
        "id": "QaCi2GozcxLk"
      },
      "outputs": [],
      "source": [
        "import torch\n",
        "import torch.nn as nn\n",
        "import re\n",
        "\n",
        "def build_vision_projector(config, delay_load=False, **kwargs):\n",
        "    projector_type = getattr(config, 'mm_projector_type', 'linear')\n",
        "\n",
        "    if projector_type == 'linear':\n",
        "        return nn.Linear(config.mm_hidden_size, config.hidden_size)\n",
        "\n",
        "    mlp_gelu_match = re.match(r'^mlp(\\d+)x_gelu$', projector_type)\n",
        "    if mlp_gelu_match:\n",
        "        mlp_depth = int(mlp_gelu_match.group(1))\n",
        "        modules = [nn.Linear(config.mm_hidden_size, config.hidden_size)]\n",
        "        for _ in range(1, mlp_depth):\n",
        "            modules.append(nn.GELU())\n",
        "            modules.append(nn.Linear(config.hidden_size, config.hidden_size))\n",
        "        return nn.Sequential(*modules)\n",
        "\n",
        "    if projector_type == 'identity':\n",
        "        return IdentityMap()\n",
        "\n",
        "    raise ValueError(f'Unknown projector type: {projector_type}')"
      ]
    },
    {
      "cell_type": "code",
      "source": [
        "!pip install ptflops"
      ],
      "metadata": {
        "colab": {
          "base_uri": "https://localhost:8080/"
        },
        "id": "YoZ5hBo_-dKK",
        "outputId": "5f34b560-291d-47eb-8e50-58cae7e5ceb1"
      },
      "execution_count": null,
      "outputs": [
        {
          "output_type": "stream",
          "name": "stdout",
          "text": [
            "Collecting ptflops\n",
            "  Downloading ptflops-0.7.4-py3-none-any.whl.metadata (9.4 kB)\n",
            "Requirement already satisfied: torch>=2.0 in /usr/local/lib/python3.10/dist-packages (from ptflops) (2.5.1+cu121)\n",
            "Requirement already satisfied: filelock in /usr/local/lib/python3.10/dist-packages (from torch>=2.0->ptflops) (3.16.1)\n",
            "Requirement already satisfied: typing-extensions>=4.8.0 in /usr/local/lib/python3.10/dist-packages (from torch>=2.0->ptflops) (4.12.2)\n",
            "Requirement already satisfied: networkx in /usr/local/lib/python3.10/dist-packages (from torch>=2.0->ptflops) (3.4.2)\n",
            "Requirement already satisfied: jinja2 in /usr/local/lib/python3.10/dist-packages (from torch>=2.0->ptflops) (3.1.4)\n",
            "Requirement already satisfied: fsspec in /usr/local/lib/python3.10/dist-packages (from torch>=2.0->ptflops) (2024.10.0)\n",
            "Requirement already satisfied: sympy==1.13.1 in /usr/local/lib/python3.10/dist-packages (from torch>=2.0->ptflops) (1.13.1)\n",
            "Requirement already satisfied: mpmath<1.4,>=1.1.0 in /usr/local/lib/python3.10/dist-packages (from sympy==1.13.1->torch>=2.0->ptflops) (1.3.0)\n",
            "Requirement already satisfied: MarkupSafe>=2.0 in /usr/local/lib/python3.10/dist-packages (from jinja2->torch>=2.0->ptflops) (3.0.2)\n",
            "Downloading ptflops-0.7.4-py3-none-any.whl (19 kB)\n",
            "Installing collected packages: ptflops\n",
            "Successfully installed ptflops-0.7.4\n"
          ]
        }
      ]
    },
    {
      "cell_type": "markdown",
      "source": [
        "Here we create a network similar to the projection layer to test pruning:"
      ],
      "metadata": {
        "id": "pihV9__X7eJA"
      }
    },
    {
      "cell_type": "code",
      "source": [
        "import torch\n",
        "import torch.nn as nn\n",
        "import torch.optim as optim\n",
        "import torchvision\n",
        "import torchvision.transforms as transforms\n",
        "from torch.utils.data import DataLoader\n",
        "import torch.nn.functional as F\n",
        "import numpy as np\n",
        "from ptflops import get_model_complexity_info\n",
        "\n",
        "class MLP(nn.Module):\n",
        "    def __init__(self, input_size, hidden_size, output_size, n_layers):\n",
        "        super(MLP, self).__init__()\n",
        "        layers = [nn.Linear(input_size, hidden_size)]\n",
        "        for _ in range(n_layers - 1):\n",
        "            layers.append(nn.GELU())\n",
        "            layers.append(nn.Linear(hidden_size, hidden_size))\n",
        "        layers.append(nn.Linear(hidden_size, output_size))\n",
        "        self.model = nn.Sequential(*layers)\n",
        "\n",
        "    def forward(self, x):\n",
        "        x = x.view(x.size(0), -1)\n",
        "        return self.model(x)\n",
        "\n",
        "def evaluate(model, test_loader):\n",
        "    model.eval()\n",
        "    correct = 0\n",
        "    total = 0\n",
        "    with torch.no_grad():\n",
        "        for inputs, labels in test_loader:\n",
        "            inputs, labels = inputs.cuda(), labels.cuda()\n",
        "            outputs = model(inputs)\n",
        "            _, predicted = torch.max(outputs.data, 1)\n",
        "            total += labels.size(0)\n",
        "            correct += (predicted == labels).sum().item()\n",
        "\n",
        "    accuracy = 100 * correct / total\n",
        "    print(f\"Test Accuracy: {accuracy:.2f}%\")\n",
        "    return accuracy\n",
        "\n",
        "\n",
        "def finetune(model, train_loader, criterion, optimizer, epochs=5):\n",
        "    model.train()\n",
        "    for epoch in range(epochs):\n",
        "        running_loss = 0.0\n",
        "        correct = 0\n",
        "        total = 0\n",
        "        for inputs, labels in train_loader:\n",
        "            inputs, labels = inputs.cuda(), labels.cuda()\n",
        "\n",
        "            optimizer.zero_grad()\n",
        "            outputs = model(inputs)\n",
        "            loss = criterion(outputs, labels)\n",
        "            loss.backward()\n",
        "            optimizer.step()\n",
        "\n",
        "            running_loss += loss.item()\n",
        "            _, predicted = torch.max(outputs.data, 1)\n",
        "            total += labels.size(0)\n",
        "            correct += (predicted == labels).sum().item()\n",
        "\n",
        "        print(f\"Epoch {epoch+1}, Loss: {running_loss/len(train_loader)}, Accuracy: {100 * correct / total}%\")\n",
        "\n",
        "\n",
        "transform = transforms.Compose([transforms.ToTensor(), transforms.Normalize((0.5,), (0.5,))])\n",
        "\n",
        "trainset = torchvision.datasets.MNIST(root='./data', train=True, download=True, transform=transform)\n",
        "testset = torchvision.datasets.MNIST(root='./data', train=False, download=True, transform=transform)\n",
        "\n",
        "train_loader = DataLoader(trainset, batch_size=64, shuffle=True)\n",
        "test_loader = DataLoader(testset, batch_size=64, shuffle=False)\n",
        "\n",
        "\n",
        "input_size = 28 * 28\n",
        "hidden_size = 128\n",
        "output_size = 10\n",
        "n_layers = 5\n",
        "\n",
        "\n",
        "model = MLP(input_size, hidden_size, output_size, n_layers).cuda()\n",
        "\n",
        "optimizer = optim.Adam(model.parameters(), lr=0.001)\n",
        "criterion = nn.CrossEntropyLoss()\n",
        "\n",
        "print(\"Training the model before pruning:\")\n",
        "finetune(model, train_loader, criterion, optimizer, epochs=10)\n",
        "\n",
        "torch.save(model, \"model.pth\")\n",
        "\n",
        "print(\"Calculating FLOPs before pruning:\")\n",
        "macs, params = get_model_complexity_info(model, (1, 28, 28), as_strings=True, print_per_layer_stat=True)\n",
        "print(f\"FLOPs before pruning: {macs}, Parameters: {params}\")\n"
      ],
      "metadata": {
        "colab": {
          "base_uri": "https://localhost:8080/"
        },
        "id": "ijbOMihj-Wgu",
        "outputId": "3762831d-e64b-458a-93f6-8416800fbcb4"
      },
      "execution_count": null,
      "outputs": [
        {
          "output_type": "stream",
          "name": "stdout",
          "text": [
            "Downloading http://yann.lecun.com/exdb/mnist/train-images-idx3-ubyte.gz\n",
            "Failed to download (trying next):\n",
            "HTTP Error 403: Forbidden\n",
            "\n",
            "Downloading https://ossci-datasets.s3.amazonaws.com/mnist/train-images-idx3-ubyte.gz\n",
            "Downloading https://ossci-datasets.s3.amazonaws.com/mnist/train-images-idx3-ubyte.gz to ./data/MNIST/raw/train-images-idx3-ubyte.gz\n"
          ]
        },
        {
          "output_type": "stream",
          "name": "stderr",
          "text": [
            "100%|██████████| 9.91M/9.91M [00:00<00:00, 43.5MB/s]\n"
          ]
        },
        {
          "output_type": "stream",
          "name": "stdout",
          "text": [
            "Extracting ./data/MNIST/raw/train-images-idx3-ubyte.gz to ./data/MNIST/raw\n",
            "\n",
            "Downloading http://yann.lecun.com/exdb/mnist/train-labels-idx1-ubyte.gz\n",
            "Failed to download (trying next):\n",
            "HTTP Error 403: Forbidden\n",
            "\n",
            "Downloading https://ossci-datasets.s3.amazonaws.com/mnist/train-labels-idx1-ubyte.gz\n",
            "Downloading https://ossci-datasets.s3.amazonaws.com/mnist/train-labels-idx1-ubyte.gz to ./data/MNIST/raw/train-labels-idx1-ubyte.gz\n"
          ]
        },
        {
          "output_type": "stream",
          "name": "stderr",
          "text": [
            "100%|██████████| 28.9k/28.9k [00:00<00:00, 1.28MB/s]\n"
          ]
        },
        {
          "output_type": "stream",
          "name": "stdout",
          "text": [
            "Extracting ./data/MNIST/raw/train-labels-idx1-ubyte.gz to ./data/MNIST/raw\n",
            "\n",
            "Downloading http://yann.lecun.com/exdb/mnist/t10k-images-idx3-ubyte.gz\n",
            "Failed to download (trying next):\n",
            "HTTP Error 403: Forbidden\n",
            "\n",
            "Downloading https://ossci-datasets.s3.amazonaws.com/mnist/t10k-images-idx3-ubyte.gz\n",
            "Downloading https://ossci-datasets.s3.amazonaws.com/mnist/t10k-images-idx3-ubyte.gz to ./data/MNIST/raw/t10k-images-idx3-ubyte.gz\n"
          ]
        },
        {
          "output_type": "stream",
          "name": "stderr",
          "text": [
            "100%|██████████| 1.65M/1.65M [00:00<00:00, 10.9MB/s]\n"
          ]
        },
        {
          "output_type": "stream",
          "name": "stdout",
          "text": [
            "Extracting ./data/MNIST/raw/t10k-images-idx3-ubyte.gz to ./data/MNIST/raw\n",
            "\n",
            "Downloading http://yann.lecun.com/exdb/mnist/t10k-labels-idx1-ubyte.gz\n",
            "Failed to download (trying next):\n",
            "HTTP Error 403: Forbidden\n",
            "\n",
            "Downloading https://ossci-datasets.s3.amazonaws.com/mnist/t10k-labels-idx1-ubyte.gz\n",
            "Downloading https://ossci-datasets.s3.amazonaws.com/mnist/t10k-labels-idx1-ubyte.gz to ./data/MNIST/raw/t10k-labels-idx1-ubyte.gz\n"
          ]
        },
        {
          "output_type": "stream",
          "name": "stderr",
          "text": [
            "100%|██████████| 4.54k/4.54k [00:00<00:00, 3.57MB/s]\n"
          ]
        },
        {
          "output_type": "stream",
          "name": "stdout",
          "text": [
            "Extracting ./data/MNIST/raw/t10k-labels-idx1-ubyte.gz to ./data/MNIST/raw\n",
            "\n",
            "Training the model before pruning:\n",
            "Epoch 1, Loss: 0.3561573775369984, Accuracy: 88.36166666666666%\n",
            "Epoch 2, Loss: 0.15687885793295306, Accuracy: 95.16333333333333%\n",
            "Epoch 3, Loss: 0.12062729426772832, Accuracy: 96.28833333333333%\n",
            "Epoch 4, Loss: 0.10285982079823801, Accuracy: 96.795%\n",
            "Epoch 5, Loss: 0.0874423110019366, Accuracy: 97.28833333333333%\n",
            "Epoch 6, Loss: 0.08068304431641093, Accuracy: 97.50833333333334%\n",
            "Epoch 7, Loss: 0.06948303363173267, Accuracy: 97.85666666666667%\n",
            "Epoch 8, Loss: 0.06760811422876309, Accuracy: 97.895%\n",
            "Epoch 9, Loss: 0.060989562736346085, Accuracy: 98.135%\n",
            "Epoch 10, Loss: 0.05614889428228773, Accuracy: 98.245%\n",
            "Calculating FLOPs before pruning:\n",
            "MLP(\n",
            "  167.82 k, 100.000% Params, 168.33 KMac, 99.697% MACs, \n",
            "  (model): Sequential(\n",
            "    167.82 k, 100.000% Params, 168.33 KMac, 99.697% MACs, \n",
            "    (0): Linear(100.48 k, 59.874% Params, 100.48 KMac, 59.511% MACs, in_features=784, out_features=128, bias=True)\n",
            "    (1): GELU(0, 0.000% Params, 128.0 Mac, 0.076% MACs, approximate='none')\n",
            "    (2): Linear(16.51 k, 9.839% Params, 16.51 KMac, 9.780% MACs, in_features=128, out_features=128, bias=True)\n",
            "    (3): GELU(0, 0.000% Params, 128.0 Mac, 0.076% MACs, approximate='none')\n",
            "    (4): Linear(16.51 k, 9.839% Params, 16.51 KMac, 9.780% MACs, in_features=128, out_features=128, bias=True)\n",
            "    (5): GELU(0, 0.000% Params, 128.0 Mac, 0.076% MACs, approximate='none')\n",
            "    (6): Linear(16.51 k, 9.839% Params, 16.51 KMac, 9.780% MACs, in_features=128, out_features=128, bias=True)\n",
            "    (7): GELU(0, 0.000% Params, 128.0 Mac, 0.076% MACs, approximate='none')\n",
            "    (8): Linear(16.51 k, 9.839% Params, 16.51 KMac, 9.780% MACs, in_features=128, out_features=128, bias=True)\n",
            "    (9): Linear(1.29 k, 0.769% Params, 1.29 KMac, 0.764% MACs, in_features=128, out_features=10, bias=True)\n",
            "  )\n",
            ")\n",
            "FLOPs before pruning: 168.84 KMac, Parameters: 167.82 k\n"
          ]
        }
      ]
    },
    {
      "cell_type": "code",
      "source": [
        "import torch.nn.utils.prune as prune\n",
        "pmodel = torch.load(\"model.pth\")\n",
        "\n",
        "def prune_model(model, pruning_amount=0.1):\n",
        "    for name, module in model.named_modules():\n",
        "        if isinstance(module, nn.Conv1d):\n",
        "            prune.l1_unstructured(module, name='weight', amount=pruning_amount)\n",
        "            print(f\"Pruned Conv1d layer: {name}\")\n",
        "        elif isinstance(module, nn.Linear):\n",
        "            prune.l1_unstructured(module, name='weight', amount=pruning_amount)\n",
        "            print(f\"Pruned Linear layer: {name}\")\n",
        "\n",
        "    return model\n",
        "\n",
        "print(\"Pruning the model:\")\n",
        "pmodel = prune_model(pmodel, pruning_amount=0.9)\n",
        "\n",
        "print(\"Calculating FLOPs after pruning:\")\n",
        "macs_after_pruning, params_after_pruning = get_model_complexity_info(pmodel, (1, 28, 28), as_strings=True, print_per_layer_stat=True)\n",
        "print(f\"FLOPs after pruning: {macs_after_pruning}, Parameters: {params_after_pruning}\")\n",
        "\n",
        "print(\"Evaluating the pruned model on the test set:\")\n",
        "test_accuracy_before_finetune = evaluate(pmodel, test_loader)"
      ],
      "metadata": {
        "colab": {
          "base_uri": "https://localhost:8080/"
        },
        "id": "8LWU8QAhfIRw",
        "outputId": "d358d036-2287-4e13-8dce-435369c86b1c"
      },
      "execution_count": null,
      "outputs": [
        {
          "output_type": "stream",
          "name": "stderr",
          "text": [
            "<ipython-input-21-3b1fd9b437b5>:2: FutureWarning: You are using `torch.load` with `weights_only=False` (the current default value), which uses the default pickle module implicitly. It is possible to construct malicious pickle data which will execute arbitrary code during unpickling (See https://github.com/pytorch/pytorch/blob/main/SECURITY.md#untrusted-models for more details). In a future release, the default value for `weights_only` will be flipped to `True`. This limits the functions that could be executed during unpickling. Arbitrary objects will no longer be allowed to be loaded via this mode unless they are explicitly allowlisted by the user via `torch.serialization.add_safe_globals`. We recommend you start setting `weights_only=True` for any use case where you don't have full control of the loaded file. Please open an issue on GitHub for any issues related to this experimental feature.\n",
            "  pmodel = torch.load(\"model.pth\")\n"
          ]
        },
        {
          "output_type": "stream",
          "name": "stdout",
          "text": [
            "Pruning the model:\n",
            "Pruned Linear layer: model.0\n",
            "Pruned Linear layer: model.2\n",
            "Pruned Linear layer: model.4\n",
            "Pruned Linear layer: model.6\n",
            "Pruned Linear layer: model.8\n",
            "Pruned Linear layer: model.9\n",
            "Calculating FLOPs after pruning:\n",
            "MLP(\n",
            "  167.82 k, 100.000% Params, 168.33 KMac, 99.697% MACs, \n",
            "  (model): Sequential(\n",
            "    167.82 k, 100.000% Params, 168.33 KMac, 99.697% MACs, \n",
            "    (0): Linear(100.48 k, 59.874% Params, 100.48 KMac, 59.511% MACs, in_features=784, out_features=128, bias=True)\n",
            "    (1): GELU(0, 0.000% Params, 128.0 Mac, 0.076% MACs, approximate='none')\n",
            "    (2): Linear(16.51 k, 9.839% Params, 16.51 KMac, 9.780% MACs, in_features=128, out_features=128, bias=True)\n",
            "    (3): GELU(0, 0.000% Params, 128.0 Mac, 0.076% MACs, approximate='none')\n",
            "    (4): Linear(16.51 k, 9.839% Params, 16.51 KMac, 9.780% MACs, in_features=128, out_features=128, bias=True)\n",
            "    (5): GELU(0, 0.000% Params, 128.0 Mac, 0.076% MACs, approximate='none')\n",
            "    (6): Linear(16.51 k, 9.839% Params, 16.51 KMac, 9.780% MACs, in_features=128, out_features=128, bias=True)\n",
            "    (7): GELU(0, 0.000% Params, 128.0 Mac, 0.076% MACs, approximate='none')\n",
            "    (8): Linear(16.51 k, 9.839% Params, 16.51 KMac, 9.780% MACs, in_features=128, out_features=128, bias=True)\n",
            "    (9): Linear(1.29 k, 0.769% Params, 1.29 KMac, 0.764% MACs, in_features=128, out_features=10, bias=True)\n",
            "  )\n",
            ")\n",
            "FLOPs after pruning: 168.84 KMac, Parameters: 167.82 k\n",
            "Evaluating the pruned model on the test set:\n",
            "Test Accuracy: 9.76%\n"
          ]
        }
      ]
    }
  ]
}